{
  "nbformat": 4,
  "nbformat_minor": 0,
  "metadata": {
    "colab": {
      "provenance": [],
      "authorship_tag": "ABX9TyPYPM6rBBZWoCs3uEilA1p7",
      "include_colab_link": true
    },
    "kernelspec": {
      "name": "python3",
      "display_name": "Python 3"
    },
    "language_info": {
      "name": "python"
    }
  },
  "cells": [
    {
      "cell_type": "markdown",
      "metadata": {
        "id": "view-in-github",
        "colab_type": "text"
      },
      "source": [
        "<a href=\"https://colab.research.google.com/github/VaughnnIvan/BSIS2-DV-LAB6-VHABER/blob/main/Lab6.ipynb\" target=\"_parent\"><img src=\"https://colab.research.google.com/assets/colab-badge.svg\" alt=\"Open In Colab\"/></a>"
      ]
    },
    {
      "cell_type": "code",
      "execution_count": 3,
      "metadata": {
        "colab": {
          "base_uri": "https://localhost:8080/"
        },
        "id": "Hm7rWeBj29wq",
        "outputId": "94bd44b4-68ee-4044-fa0b-8ad511c32fbf"
      },
      "outputs": [
        {
          "output_type": "stream",
          "name": "stdout",
          "text": [
            "[1, 2, 3, 4]\n",
            "['Steam', 'Discord', 'Riot']\n",
            "[1, 2, 3, 4]\n",
            "[1, 2, 3, 4]\n",
            "[1, 2]\n"
          ]
        },
        {
          "output_type": "execute_result",
          "data": {
            "text/plain": [
              "[2, 3, 4]"
            ]
          },
          "metadata": {},
          "execution_count": 3
        }
      ],
      "source": [
        "z = [1, 2, 3, 4]\n",
        "print(z)\n",
        "\n",
        "\n",
        "Vaughnpc = [\"Steam\", \"Discord\", 'Riot']\n",
        "print(Vaughnpc)\n",
        "\n",
        "\n",
        "z [0]\n",
        "print(z)\n",
        "\n",
        "z[-1]\n",
        "print(z)\n",
        "\n",
        "print(z [0:2])\n",
        "\n",
        "z [:3]\n",
        "\n",
        "z [1:]"
      ]
    }
  ]
}